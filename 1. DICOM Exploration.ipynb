{
 "cells": [
  {
   "cell_type": "markdown",
   "metadata": {},
   "source": [
    "# 1. DICOM Data Exploration  \n",
    "##  DTSC 691 Project Submission  \n",
    "## Yurian Falls   \n",
    "\n"
   ]
  },
  {
   "cell_type": "code",
   "execution_count": 1,
   "metadata": {
    "colab": {
     "base_uri": "https://localhost:8080/"
    },
    "id": "AbK4sALmobjO",
    "outputId": "e23d7dc5-fd98-4eb8-d5a4-173bab23e15e"
   },
   "outputs": [],
   "source": [
    "import matplotlib.pyplot as plt\n",
    "from glob import glob\n",
    "from PIL import Image \n",
    "import numpy as np\n",
    "import tempfile\n",
    "import pydicom\n",
    "import shutil\n",
    "import random\n",
    "import PIL\n",
    "import cv2\n",
    "import os\n",
    "#import pydicom as dicom"
   ]
  },
  {
   "cell_type": "markdown",
   "metadata": {},
   "source": [
    "# a.\tAccessing DICOM files"
   ]
  },
  {
   "cell_type": "markdown",
   "metadata": {},
   "source": [
    "### Listing the files in the folder New_knee_dicom"
   ]
  },
  {
   "cell_type": "code",
   "execution_count": 2,
   "metadata": {},
   "outputs": [
    {
     "name": "stdout",
     "output_type": "stream",
     "text": [
      "Total of 26 DICOM images.\n",
      "First 5 filenames:\n",
      "['New_knee_dicom/Acceptable\\\\IM-0002-0013.dcm', 'New_knee_dicom/Acceptable\\\\IM-0002-0014.dcm', 'New_knee_dicom/Acceptable\\\\IM-0002-0015.dcm', 'New_knee_dicom/Acceptable\\\\IM-0002-0016.dcm', 'New_knee_dicom/Acceptable\\\\IM-0002-0017.dcm']\n"
     ]
    }
   ],
   "source": [
    "# Listing the files and printing the first 5 filenames\n",
    "data_path = 'New_knee_dicom/Acceptable'  # Change to Not_acceptable to see the other folder\n",
    "g = glob(data_path + '/*.dcm')\n",
    "files = glob(data_path + '/*.dcm')\n",
    "print (\"Total of %d DICOM images.\\nFirst 5 filenames:\" % len(g))\n",
    "print (g[:5])"
   ]
  },
  {
   "cell_type": "markdown",
   "metadata": {},
   "source": [
    "### Adding the dcm extension"
   ]
  },
  {
   "cell_type": "code",
   "execution_count": 5,
   "metadata": {},
   "outputs": [],
   "source": [
    "'''Sometimes DICOM Viewers or PACS systems do not export the images with the .dcm extension and we would need\n",
    "to add it to be able to work with them here.\n",
    "This is not our case, but I will leave this here in case I need it later\n",
    "'''\n",
    "# import os\n",
    "# root = os.getcwd()\n",
    "# for file in os.listdir('.'):\n",
    "#    if not os.path.isfile(file):\n",
    "#        continue\n",
    "#    head, tail = os.path.splitext(file)\n",
    "#    if not tail:\n",
    "#        src = os.path.join(root, file)\n",
    "#        dst = os.path.join(root, file + '.dcm')\n",
    "#        if not os.path.exists(dst): # check if the file doesn't exist\n",
    "#            os.rename(src, dst)"
   ]
  },
  {
   "cell_type": "markdown",
   "metadata": {},
   "source": [
    "## a1. Accessing a single DICOM tags and image"
   ]
  },
  {
   "cell_type": "markdown",
   "metadata": {},
   "source": [
    "Let's take a look at the DICOM Tags of one of the images     \n",
    "IM-0003-0015.dcm"
   ]
  },
  {
   "cell_type": "code",
   "execution_count": 3,
   "metadata": {},
   "outputs": [],
   "source": [
    "fpath = \"New_knee_dicom/Acceptable/IM-0003-0015.dcm\"\n",
    "ds = pydicom.dcmread(fpath) # Assigning the tags read with pydicom to ds"
   ]
  },
  {
   "cell_type": "code",
   "execution_count": 4,
   "metadata": {},
   "outputs": [
    {
     "data": {
      "text/plain": [
       "Dataset.file_meta -------------------------------\n",
       "(0002, 0000) File Meta Information Group Length  UL: 190\n",
       "(0002, 0001) File Meta Information Version       OB: b'\\x00\\x01'\n",
       "(0002, 0002) Media Storage SOP Class UID         UI: MR Image Storage\n",
       "(0002, 0003) Media Storage SOP Instance UID      UI: 1.2.392.200036.9116.4.2.9186.1636.5.10001.15\n",
       "(0002, 0010) Transfer Syntax UID                 UI: Explicit VR Little Endian\n",
       "(0002, 0012) Implementation Class UID            UI: 1.2.276.0.7238010.5.0.3.5.4\n",
       "(0002, 0013) Implementation Version Name         SH: 'OSIRIX'\n",
       "(0002, 0016) Source Application Entity Title     AE: 'GDCM'\n",
       "-------------------------------------------------\n",
       "(0008, 0008) Image Type                          CS: ['ORIGINAL', 'PRIMARY', 'GDC']\n",
       "(0008, 0012) Instance Creation Date              DA: '20200813'\n",
       "(0008, 0013) Instance Creation Time              TM: '132115.000'\n",
       "(0008, 0014) Instance Creator UID                UI: 1.2.392.200036.9116.4.2\n",
       "(0008, 0016) SOP Class UID                       UI: MR Image Storage\n",
       "(0008, 0018) SOP Instance UID                    UI: 1.2.392.200036.9116.4.2.9186.1636.5.10001.15\n",
       "(0008, 0020) Study Date                          DA: ''\n",
       "(0008, 0021) Series Date                         DA: '20101111'\n",
       "(0008, 0023) Content Date                        DA: '20200813'\n",
       "(0008, 0030) Study Time                          TM: ''\n",
       "(0008, 0031) Series Time                         TM: '132115'\n",
       "(0008, 0032) Acquisition Time                    TM: '132115.000'\n",
       "(0008, 0033) Content Time                        TM: '132115.000'\n",
       "(0008, 0050) Accession Number                    SH: ''\n",
       "(0008, 0060) Modality                            CS: 'MR'\n",
       "(0008, 0070) Manufacturer                        LO: 'CANON_MEC'\n",
       "(0008, 0080) Institution Name                    LO: 'ANONYMIZED SITE'\n",
       "(0008, 0090) Referring Physician's Name          PN: ''\n",
       "(0008, 1030) Study Description                   LO: 'Knie li'\n",
       "(0008, 103e) Series Description                  LO: 'SAG T1 FSE  ACS'\n",
       "(0008, 1048) Physician(s) of Record              PN: ''\n",
       "(0008, 1050) Performing Physician's Name         PN: '*'\n",
       "(0008, 1060) Name of Physician(s) Reading Study  PN: ''\n",
       "(0008, 1080) Admitting Diagnoses Description     LO: ''\n",
       "(0008, 1090) Manufacturer's Model Name           LO: 'Galan 3T'\n",
       "(0008, 1140)  Referenced Image Sequence  3 item(s) ---- \n",
       "   (0008, 1150) Referenced SOP Class UID            UI: MR Image Storage\n",
       "   (0008, 1155) Referenced SOP Instance UID         UI: 1.2.392.200036.9116.4.2.9186.1636.13.1001.24\n",
       "   ---------\n",
       "   (0008, 1150) Referenced SOP Class UID            UI: MR Image Storage\n",
       "   (0008, 1155) Referenced SOP Instance UID         UI: 1.2.392.200036.9116.4.2.9186.2145.20200813041715859.2.12\n",
       "   ---------\n",
       "   (0008, 1150) Referenced SOP Class UID            UI: MR Image Storage\n",
       "   (0008, 1155) Referenced SOP Instance UID         UI: 1.2.392.200036.9116.4.2.9186.6771.20200813041717234.2.33\n",
       "   ---------\n",
       "(0010, 0010) Patient's Name                      PN: 'good_iq_2'\n",
       "(0010, 0020) Patient ID                          LO: '3EX-3GE-0932'\n",
       "(0010, 0030) Patient's Birth Date                DA: ''\n",
       "(0010, 0040) Patient's Sex                       CS: 'M'\n",
       "(0010, 1010) Patient's Age                       AS: '027Y'\n",
       "(0010, 1020) Patient's Size                      DS: '1.88'\n",
       "(0010, 1030) Patient's Weight                    DS: '92.0'\n",
       "(0010, 2160) Ethnic Group                        SH: ''\n",
       "(0010, 2180) Occupation                          SH: ''\n",
       "(0010, 21b0) Additional Patient History          LT: ''\n",
       "(0010, 4000) Patient Comments                    LT: ''\n",
       "(0012, 0062) Patient Identity Removed            CS: 'YES'\n",
       "(0012, 0063) De-identification Method            LO: 'Retain UIDs & Safe Private Option'\n",
       "(0018, 0015) Body Part Examined                  CS: 'KNEE'\n",
       "(0018, 0020) Scanning Sequence                   CS: 'SE'\n",
       "(0018, 0021) Sequence Variant                    CS: 'NONE'\n",
       "(0018, 0022) Scan Options                        CS: ''\n",
       "(0018, 0023) MR Acquisition Type                 CS: '2D'\n",
       "(0018, 0024) Sequence Name                       SH: 'FSE2D+12'\n",
       "(0018, 0050) Slice Thickness                     DS: '3.0'\n",
       "(0018, 0080) Repetition Time                     DS: '525.0'\n",
       "(0018, 0081) Echo Time                           DS: '12.0'\n",
       "(0018, 0083) Number of Averages                  DS: '1.0'\n",
       "(0018, 0084) Imaging Frequency                   DS: '123.2022171'\n",
       "(0018, 0086) Echo Number(s)                      IS: '1'\n",
       "(0018, 0087) Magnetic Field Strength             DS: '3.0'\n",
       "(0018, 0088) Spacing Between Slices              DS: '3.3'\n",
       "(0018, 0089) Number of Phase Encoding Steps      IS: '480'\n",
       "(0018, 0091) Echo Train Length                   IS: '3'\n",
       "(0018, 0094) Percent Phase Field of View         DS: '100.0'\n",
       "(0018, 0095) Pixel Bandwidth                     DS: '163.0'\n",
       "(0018, 1000) Device Serial Number                LO: '9186'\n",
       "(0018, 1020) Software Versions                   LO: 'V6.0SP2001*'\n",
       "(0018, 1030) Protocol Name                       LO: 'SAG T1 FSE  ACS'\n",
       "(0018, 1080) Beat Rejection Flag                 CS: 'N'\n",
       "(0018, 1100) Reconstruction Diameter             DS: '160.0'\n",
       "(0018, 1250) Receive Coil Name                   SH: '16ch Knee'\n",
       "(0018, 1251) Transmit Coil Name                  SH: '16ch Knee'\n",
       "(0018, 1310) Acquisition Matrix                  US: [320, 0, 0, 320]\n",
       "(0018, 1312) In-plane Phase Encoding Direction   CS: 'COL'\n",
       "(0018, 1314) Flip Angle                          DS: '90.0'\n",
       "(0018, 1316) SAR                                 DS: '0.019'\n",
       "(0018, 1318) dB/dt                               DS: '6.667368'\n",
       "(0018, 5100) Patient Position                    CS: 'FFS'\n",
       "(0018, 9069) Parallel Reduction Factor In-plane  FD: 3.0\n",
       "(0018, 9073) Acquisition Duration                FD: 90.0\n",
       "(0018, 9077) Parallel Acquisition                CS: 'YES'\n",
       "(0018, 9078) Parallel Acquisition Technique      CS: 'CS'\n",
       "(0020, 000d) Study Instance UID                  UI: 1.2.276.0.50.11476952.62533254652717435864145394182374977827\n",
       "(0020, 000e) Series Instance UID                 UI: 1.2.392.200036.9116.4.2.9186.1636.710\n",
       "(0020, 0010) Study ID                            SH: '932'\n",
       "(0020, 0011) Series Number                       IS: '709'\n",
       "(0020, 0012) Acquisition Number                  IS: '4'\n",
       "(0020, 0013) Instance Number                     IS: '15'\n",
       "(0020, 0032) Image Position (Patient)            DS: [92.94032288, -106.07529449, 81.89061737]\n",
       "(0020, 0037) Image Orientation (Patient)         DS: [-0.19757996, 0.98025757, -0.00756297, 0.03825021, 0.00000004, -0.99926817]\n",
       "(0020, 0052) Frame of Reference UID              UI: 1.2.392.200036.9116.4.2.9186.1636.8\n",
       "(0020, 0060) Laterality                          CS: ''\n",
       "(0020, 0105) Number of Temporal Positions        IS: '1'\n",
       "(0020, 1040) Position Reference Indicator        LO: ''\n",
       "(0020, 1041) Slice Location                      DS: '0.0'\n",
       "(0020, 9056) Stack ID                            SH: '1'\n",
       "(0020, 9057) In-Stack Position Number            UL: 15\n",
       "(0020, 9128) Temporal Position Index             UL: 1\n",
       "(0028, 0002) Samples per Pixel                   US: 1\n",
       "(0028, 0004) Photometric Interpretation          CS: 'MONOCHROME2'\n",
       "(0028, 0010) Rows                                US: 640\n",
       "(0028, 0011) Columns                             US: 640\n",
       "(0028, 0030) Pixel Spacing                       DS: [0.2500, 0.2500]\n",
       "(0028, 0100) Bits Allocated                      US: 16\n",
       "(0028, 0101) Bits Stored                         US: 16\n",
       "(0028, 0102) High Bit                            US: 15\n",
       "(0028, 0103) Pixel Representation                US: 1\n",
       "(0028, 0106) Smallest Image Pixel Value          SS: 0\n",
       "(0028, 0107) Largest Image Pixel Value           SS: 12969\n",
       "(0028, 1050) Window Center                       DS: '5699.62'\n",
       "(0028, 1051) Window Width                        DS: '10457.1'\n",
       "(0029, 0010) Private Creator                     LO: 'CANON_MEC_MR3'\n",
       "(0029, 1001)  Private tag data  6 item(s) ---- \n",
       "   (0029, 0010) Private Creator                     LO: 'CANON_MEC_MR3'\n",
       "   (0029, 1090) Private tag data                    OB: Array of 166 elements\n",
       "   ---------\n",
       "   (0029, 0010) Private Creator                     LO: 'CANON_MEC_MR3'\n",
       "   (0029, 1090) Private tag data                    OB: Array of 1242 elements\n",
       "   ---------\n",
       "   (0029, 0010) Private Creator                     LO: 'CANON_MEC_MR3'\n",
       "   (0029, 1090) Private tag data                    OB: Array of 190 elements\n",
       "   ---------\n",
       "   (0029, 0010) Private Creator                     LO: 'CANON_MEC_MR3'\n",
       "   (0029, 1090) Private tag data                    OB: Array of 16592 elements\n",
       "   ---------\n",
       "   (0029, 0010) Private Creator                     LO: 'CANON_MEC_MR3'\n",
       "   (0029, 1090) Private tag data                    OB: Array of 6544 elements\n",
       "   ---------\n",
       "   (0029, 0010) Private Creator                     LO: 'CANON_MEC_MR3'\n",
       "   (0029, 1090) Private tag data                    OB: Array of 626 elements\n",
       "   ---------\n",
       "(0032, 1000) Scheduled Study Start Date          DA: '20200813'\n",
       "(0032, 1001) Scheduled Study Start Time          TM: '125300'\n",
       "(0032, 1032) Requesting Physician                PN: '*'\n",
       "(0032, 4000) Study Comments                      LT: ''\n",
       "(700d, 0010) Private Creator                     LO: 'CANON_MEC_MR3'\n",
       "(700d, 0011) Private Creator                     LO: 'CANON_MEC_MR3^10'\n",
       "(700d, 1000) Private tag data                    DS: '6.57889223'\n",
       "(700d, 1005) Private tag data                    DS: [0.160, 0.160, 0.160, 0.160]\n",
       "(700d, 100c) Private tag data                    CS: 'Y'\n",
       "(700d, 1111) Private tag data                    US: [1, 159]\n",
       "(700d, 1114) Private tag data                    SL: 0\n",
       "(700d, 1116) Private tag data                    LO: ['USER', 'LOWEREXTREMITY', 'Knie ACS fast']\n",
       "(700d, 1118) Private tag data                    SS: 0\n",
       "(700d, 1119) Private tag data                    OB: Array of 7452 elements\n",
       "(7fe0, 0010) Pixel Data                          OW: Array of 819200 elements"
      ]
     },
     "execution_count": 4,
     "metadata": {},
     "output_type": "execute_result"
    }
   ],
   "source": [
    "ds # Printing the tags"
   ]
  },
  {
   "cell_type": "markdown",
   "metadata": {},
   "source": [
    "### We can select individual tags to see, as well as look at the image"
   ]
  },
  {
   "cell_type": "code",
   "execution_count": 5,
   "metadata": {},
   "outputs": [
    {
     "name": "stdout",
     "output_type": "stream",
     "text": [
      "\n",
      "File path........: New_knee_dicom/Acceptable/IM-0003-0015.dcm\n",
      "SOP Class........: 1.2.840.10008.5.1.4.1.1.4 (MR Image Storage)\n",
      "\n",
      "Patient's Name...: good_iq_2, \n",
      "Patient ID.......: 3EX-3GE-0932\n",
      "Modality.........: MR\n",
      "Study Date.......: \n",
      "Image size.......: 640 x 640\n",
      "Pixel Spacing....: [0.2500, 0.2500]\n",
      "Slice location...: 0.00000000\n"
     ]
    },
    {
     "data": {
      "image/png": "[encoded data removed]",
      "text/plain": [
       "<Figure size 432x288 with 1 Axes>"
      ]
     },
     "metadata": {
      "needs_background": "light"
     },
     "output_type": "display_data"
    }
   ],
   "source": [
    "# From tthe PyDicom instructions. Referencced in the report\n",
    "\n",
    "from pydicom import dcmread\n",
    "from pydicom.data import get_testdata_file\n",
    "\n",
    "#fpath = get_testdata_file(\"00470030.dcm\")\n",
    "#ds = dcmread(fpath)\n",
    "\n",
    "# Normal mode:\n",
    "print()\n",
    "print(f\"File path........: {fpath}\")\n",
    "print(f\"SOP Class........: {ds.SOPClassUID} ({ds.SOPClassUID.name})\")\n",
    "print()\n",
    "\n",
    "pat_name = ds.PatientName\n",
    "display_name = pat_name.family_name + \", \" + pat_name.given_name\n",
    "print(f\"Patient's Name...: {display_name}\")\n",
    "print(f\"Patient ID.......: {ds.PatientID}\")\n",
    "print(f\"Modality.........: {ds.Modality}\")\n",
    "print(f\"Study Date.......: {ds.StudyDate}\")\n",
    "print(f\"Image size.......: {ds.Rows} x {ds.Columns}\")\n",
    "print(f\"Pixel Spacing....: {ds.PixelSpacing}\")\n",
    "\n",
    "# use .get() if not sure the item exists, and want a default value if missing\n",
    "print(f\"Slice location...: {ds.get('SliceLocation', '(missing)')}\")\n",
    "\n",
    "# plot the image using matplotlib\n",
    "plt.imshow(ds.pixel_array, cmap=plt.cm.gray)\n",
    "plt.show()"
   ]
  },
  {
   "cell_type": "markdown",
   "metadata": {},
   "source": [
    "### Extracting individual tags"
   ]
  },
  {
   "cell_type": "code",
   "execution_count": 6,
   "metadata": {},
   "outputs": [
    {
     "data": {
      "text/plain": [
       "'FSE2D+12'"
      ]
     },
     "execution_count": 6,
     "metadata": {},
     "output_type": "execute_result"
    }
   ],
   "source": [
    "# Tag for sequence name\n",
    "ds[0x00180024].value"
   ]
  },
  {
   "cell_type": "code",
   "execution_count": 14,
   "metadata": {},
   "outputs": [
    {
     "data": {
      "text/plain": [
       "'48.0'"
      ]
     },
     "execution_count": 14,
     "metadata": {},
     "output_type": "execute_result"
    }
   ],
   "source": [
    "# Tag for echo time\n",
    "ds[0x0180081].value   # MR imaging parameter"
   ]
  },
  {
   "cell_type": "markdown",
   "metadata": {},
   "source": [
    "### Listing the files in the folder New_knee_dicom"
   ]
  },
  {
   "cell_type": "code",
   "execution_count": 12,
   "metadata": {},
   "outputs": [],
   "source": [
    "fpath_acc = \"New_knee_dicom/Acceptable\"\n",
    "fpath_not = \"New_knee_dicom/Not_Acceptable\""
   ]
  },
  {
   "cell_type": "code",
   "execution_count": 8,
   "metadata": {},
   "outputs": [
    {
     "name": "stdout",
     "output_type": "stream",
     "text": [
      "Number of (.dcm) files = 25\n"
     ]
    }
   ],
   "source": [
    "# Number of total DICOM files in a folder\n",
    "from os import listdir\n",
    "DCMFiles = [] \n",
    "for dirName, subdirList, fileList in os.walk(fpath_not):\n",
    "    for filename in fileList:\n",
    "        if \".dcm\" in filename.lower():\n",
    "            DCMFiles.append(os.path.join(dirName,filename))\n",
    "print(\"Number of (.dcm) files =\", len(DCMFiles))"
   ]
  },
  {
   "cell_type": "code",
   "execution_count": 9,
   "metadata": {},
   "outputs": [
    {
     "data": {
      "text/plain": [
       "['New_knee_dicom/Not_Acceptable\\\\IM-0003-0001.dcm',\n",
       " 'New_knee_dicom/Not_Acceptable\\\\IM-0003-0002.dcm',\n",
       " 'New_knee_dicom/Not_Acceptable\\\\IM-0003-0003.dcm',\n",
       " 'New_knee_dicom/Not_Acceptable\\\\IM-0003-0004.dcm',\n",
       " 'New_knee_dicom/Not_Acceptable\\\\IM-0003-0005.dcm',\n",
       " 'New_knee_dicom/Not_Acceptable\\\\IM-0003-0006.dcm',\n",
       " 'New_knee_dicom/Not_Acceptable\\\\IM-0003-0007.dcm',\n",
       " 'New_knee_dicom/Not_Acceptable\\\\IM-0003-0008.dcm',\n",
       " 'New_knee_dicom/Not_Acceptable\\\\IM-0003-0009.dcm',\n",
       " 'New_knee_dicom/Not_Acceptable\\\\IM-0003-0010.dcm',\n",
       " 'New_knee_dicom/Not_Acceptable\\\\IM-0003-0011.dcm',\n",
       " 'New_knee_dicom/Not_Acceptable\\\\IM-0003-0012.dcm',\n",
       " 'New_knee_dicom/Not_Acceptable\\\\IM-0003-0013.dcm',\n",
       " 'New_knee_dicom/Not_Acceptable\\\\IM-0003-0014.dcm',\n",
       " 'New_knee_dicom/Not_Acceptable\\\\IM-0003-0015.dcm',\n",
       " 'New_knee_dicom/Not_Acceptable\\\\IM-0003-0016.dcm',\n",
       " 'New_knee_dicom/Not_Acceptable\\\\IM-0003-0017.dcm',\n",
       " 'New_knee_dicom/Not_Acceptable\\\\IM-0003-0018.dcm',\n",
       " 'New_knee_dicom/Not_Acceptable\\\\IM-0003-0019.dcm',\n",
       " 'New_knee_dicom/Not_Acceptable\\\\IM-0003-0020.dcm',\n",
       " 'New_knee_dicom/Not_Acceptable\\\\IM-0003-0021.dcm',\n",
       " 'New_knee_dicom/Not_Acceptable\\\\IM-0003-0022.dcm',\n",
       " 'New_knee_dicom/Not_Acceptable\\\\IM-0003-0023.dcm',\n",
       " 'New_knee_dicom/Not_Acceptable\\\\IM-0003-0024.dcm',\n",
       " 'New_knee_dicom/Not_Acceptable\\\\IM-0003-0025.dcm']"
      ]
     },
     "execution_count": 9,
     "metadata": {},
     "output_type": "execute_result"
    }
   ],
   "source": [
    "DCMFiles"
   ]
  },
  {
   "cell_type": "markdown",
   "metadata": {},
   "source": [
    "## b. Converting DICOM Images to JPEG Format\n",
    "I will start with the Acceptable IQ Images Folder  \n",
    "Then I will change the folder and repeat for the Acceptable IQ Images Folder\n",
    "Make sure the receiving folders are empty before running"
   ]
  },
  {
   "cell_type": "markdown",
   "metadata": {},
   "source": [
    "fpath_acc = \"New_knee_dicom/Acceptable\"  \n",
    "fpath_not = \"New_knee_dicom/Not_Acceptable\""
   ]
  },
  {
   "cell_type": "code",
   "execution_count": 13,
   "metadata": {},
   "outputs": [
    {
     "name": "stdout",
     "output_type": "stream",
     "text": [
      "0 image converted\n",
      "5 image converted\n",
      "10 image converted\n",
      "15 image converted\n",
      "20 image converted\n"
     ]
    }
   ],
   "source": [
    "# make it True if you want in PNG format\n",
    "PNG = False\n",
    "# Specify the .dcm folder path                                                \n",
    "# folder_path = \" \"\n",
    "jpg_fpath = \"New_knee_jpeg/test/Not_acceptable/\"   # Specify the output jpg or png folder path\n",
    "images_path = os.listdir(fpath_not)\n",
    "for n, image in enumerate(images_path):\n",
    "    ds = pydicom.dcmread(os.path.join(fpath_not, image))\n",
    "    pixel_array_numpy = ds.pixel_array.astype(float)\n",
    "    rescaled_image = (np.maximum(pixel_array_numpy, 0)/pixel_array_numpy.max())*255  # float pixels\n",
    "    final_image1 = np.uint8(rescaled_image) # integers pixels\n",
    "    final_image = Image.fromarray(final_image1)\n",
    "    if PNG == False:\n",
    "        image = image.replace('.dcm', '.jpg')\n",
    "    else:\n",
    "        image = image.replace('.dcm', '.png')\n",
    "    cv2.imwrite(os.path.join(jpg_fpath, image), np.uint8(final_image))\n",
    "    if n % 5 == 0:\n",
    "        print('{} image converted'.format(n))"
   ]
  },
  {
   "cell_type": "markdown",
   "metadata": {},
   "source": [
    "## c. Checking JPEG image resolution"
   ]
  },
  {
   "cell_type": "code",
   "execution_count": 14,
   "metadata": {
    "colab": {
     "base_uri": "https://localhost:8080/"
    },
    "id": "PaKdCkorg90y",
    "outputId": "e5a98131-b770-4b3f-a4ab-11084bd44830"
   },
   "outputs": [
    {
     "name": "stdout",
     "output_type": "stream",
     "text": [
      "1 )  IM-0002-0013.jpg , resolution:  576 x 576\n",
      "2 )  IM-0002-0014.jpg , resolution:  576 x 576\n",
      "3 )  IM-0002-0015.jpg , resolution:  576 x 576\n",
      "4 )  IM-0002-0016.jpg , resolution:  576 x 576\n",
      "5 )  IM-0002-0017.jpg , resolution:  576 x 576\n",
      "6 )  IM-0002-0018.jpg , resolution:  576 x 576\n",
      "7 )  IM-0002-0019.jpg , resolution:  576 x 576\n",
      "8 )  IM-0002-0020.jpg , resolution:  576 x 576\n",
      "9 )  IM-0002-0021.jpg , resolution:  576 x 576\n",
      "10 )  IM-0002-0022.jpg , resolution:  576 x 576\n",
      "11 )  IM-0002-0023.jpg , resolution:  576 x 576\n",
      "12 )  IM-0002-0024.jpg , resolution:  576 x 576\n",
      "13 )  IM-0002-0025.jpg , resolution:  576 x 576\n",
      "14 )  IM-0003-0013.jpg , resolution:  640 x 640\n",
      "15 )  IM-0003-0014.jpg , resolution:  640 x 640\n",
      "16 )  IM-0003-0015.jpg , resolution:  640 x 640\n",
      "17 )  IM-0003-0016.jpg , resolution:  640 x 640\n",
      "18 )  IM-0003-0017.jpg , resolution:  640 x 640\n",
      "19 )  IM-0003-0018.jpg , resolution:  640 x 640\n",
      "20 )  IM-0003-0019.jpg , resolution:  640 x 640\n",
      "21 )  IM-0003-0020.jpg , resolution:  640 x 640\n",
      "22 )  IM-0003-0021.jpg , resolution:  640 x 640\n",
      "23 )  IM-0003-0022.jpg , resolution:  640 x 640\n",
      "24 )  IM-0003-0023.jpg , resolution:  640 x 640\n",
      "25 )  IM-0003-0024.jpg , resolution:  640 x 640\n",
      "26 )  IM-0003-0025.jpg , resolution:  640 x 640\n",
      "\n",
      "\n",
      "\n",
      "\n"
     ]
    }
   ],
   "source": [
    "# printing the resolution of the images\n",
    "# Makeing sure we are in the right directory\n",
    "os.chdir('New_knee_jpeg/test/Acceptable')\n",
    "import glob\n",
    "for extension in [\"jpg\", 'png']:\n",
    "  i = 1\n",
    "  for imgfile in glob.glob(\"*.\" + extension):\n",
    "    img = Image.open(imgfile)\n",
    "    print (i,\") \",imgfile,\", resolution: \",img.size[0],\"x\",img.size[1])\n",
    "    i += 1\n",
    "  print (\"\\n\")"
   ]
  },
  {
   "cell_type": "markdown",
   "metadata": {},
   "source": [
    "## d. Exporting DICOM tags to a CVS file"
   ]
  },
  {
   "cell_type": "markdown",
   "metadata": {},
   "source": [
    "fpath_acc = \"New_knee_dicom/Acceptable\"  \n",
    "fpath_not = \"New_knee_dicom/Not_Acceptable\""
   ]
  },
  {
   "cell_type": "markdown",
   "metadata": {},
   "source": [
    "(0008, 1150) Referenced SOP Class UID            UI: MR Image Storage  \n",
    "(0010, 0010) Patient's Name                      PN: 'good_iq_2'  \n",
    "(0010, 0020) Patient ID                          LO: '3EX-3GE-0932'  \n",
    "(0010, 0030) Patient's Birth D  "
   ]
  },
  {
   "cell_type": "code",
   "execution_count": 15,
   "metadata": {},
   "outputs": [],
   "source": [
    "# Change the directory here\n",
    "os.chdir('A:/OneDrive/Desktop/EU_MS/DTSC_691_Applied DS_ Project/project_jupyter/Falls_project/Tuning/New_knee_dicom/Acceptable')"
   ]
  },
  {
   "cell_type": "code",
   "execution_count": 16,
   "metadata": {},
   "outputs": [],
   "source": [
    "# Assign the folder path to a DICOM image\n",
    "f_path = 'A:/OneDrive/Desktop/EU_MS/DTSC_691_Applied DS_ Project/project_jupyter/Falls_project/Tuning/New_knee_dicom/Acceptable/IM-0003-0014.dcm'"
   ]
  },
  {
   "cell_type": "code",
   "execution_count": 17,
   "metadata": {},
   "outputs": [],
   "source": [
    "#Save DICOM tags to csv file\n",
    "import csv\n",
    "from pydicom.data import get_testdata_file\n",
    "\n",
    "ds =  pydicom.dcmread(f_path)\n",
    "\n",
    "with open('dicom_tags.csv', 'w', newline='') as csvfile:\n",
    "    writer = csv.writer(csvfile)\n",
    "    writer.writerow(\"Group Elem Description VR value\".split())\n",
    "    for elem in ds:\n",
    "        writer.writerow([\n",
    "            f\"{elem.tag.group:04X}\", f\"{elem.tag.element:04X}\",\n",
    "            elem.description(), elem.VR, str(elem.value)])"
   ]
  },
  {
   "cell_type": "code",
   "execution_count": null,
   "metadata": {},
   "outputs": [],
   "source": []
  },
  {
   "cell_type": "code",
   "execution_count": null,
   "metadata": {},
   "outputs": [],
   "source": []
  }
 ],
 "metadata": {
  "colab": {
   "collapsed_sections": [],
   "name": "resizing_filesipynb",
   "provenance": []
  },
  "kernelspec": {
   "display_name": "Python 3 (ipykernel)",
   "language": "python",
   "name": "python3"
  },
  "language_info": {
   "codemirror_mode": {
    "name": "ipython",
    "version": 3
   },
   "file_extension": ".py",
   "mimetype": "text/x-python",
   "name": "python",
   "nbconvert_exporter": "python",
   "pygments_lexer": "ipython3",
   "version": "3.9.7"
  }
 },
 "nbformat": 4,
 "nbformat_minor": 1
}
